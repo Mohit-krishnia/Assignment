{
 "cells": [
  {
   "cell_type": "code",
   "execution_count": 4,
   "id": "419a0503",
   "metadata": {},
   "outputs": [
    {
     "name": "stdout",
     "output_type": "stream",
     "text": [
      "Enter any string for its reverse : Hello_Mohit\n",
      "tihoM_olleH"
     ]
    }
   ],
   "source": [
    "'''Reverse a string using a stack data structure'''\n",
    "a=input(\"Enter any string for its reverse : \")\n",
    "stack=[]\n",
    "for i in a:\n",
    "    stack.append(i)\n",
    "for i in range(len(stack)):\n",
    "    print(stack.pop(),end=\"\")"
   ]
  },
  {
   "cell_type": "code",
   "execution_count": 6,
   "id": "a784da36",
   "metadata": {},
   "outputs": [
    {
     "name": "stdout",
     "output_type": "stream",
     "text": [
      "Enter the list of (-)ve or (+)ve numbers: 1 0 -3 11 5 8 -7\n",
      "[-3, -7, 1, 11, 5, 8, 0]\n"
     ]
    }
   ],
   "source": [
    "'''Move all the negative elements to one side of the array'''\n",
    "a = list(map(int, input(\"Enter the list of (-)ve or (+)ve numbers: \").split()))\n",
    "j = 0\n",
    "for i in range(len(a)):\n",
    "    if a[i] < 0:\n",
    "        a[i], a[j] = a[j], a[i]\n",
    "        j += 1\n",
    "print(a)"
   ]
  },
  {
   "cell_type": "code",
   "execution_count": 7,
   "id": "013d5d2c",
   "metadata": {},
   "outputs": [
    {
     "name": "stdout",
     "output_type": "stream",
     "text": [
      "Enter a list of numbers to find the Kth smallest and Kth largest numbers: 1 4 7 22 3 10 5 12 \n",
      "Enter the value of k: 5\n",
      "The 5th smallest number is: 7\n",
      "The 5th largest number is: 5\n"
     ]
    }
   ],
   "source": [
    "'''Find the Kth largest and Kth smallest number in an array'''\n",
    "a = list(map(int, input(\"Enter a list of numbers to find the Kth smallest and Kth largest numbers: \").split()))\n",
    "k = int(input(\"Enter the value of k: \"))\n",
    "a_sorted = sorted(a)\n",
    "kth_smallest = a_sorted[k-1]\n",
    "kth_largest = a_sorted[-k]\n",
    "print(f\"The {k}th smallest number is: {kth_smallest}\")\n",
    "print(f\"The {k}th largest number is: {kth_largest}\")"
   ]
  },
  {
   "cell_type": "code",
   "execution_count": 8,
   "id": "788c578e",
   "metadata": {},
   "outputs": [
    {
     "name": "stdout",
     "output_type": "stream",
     "text": [
      "Enter the elements in the array to find duplicates: 1 5 8 12 4 5 1 0 7 8\n",
      "The element 1 has 2 duplicates\n",
      "The element 5 has 2 duplicates\n",
      "The element 8 has 2 duplicates\n"
     ]
    }
   ],
   "source": [
    "'''Find duplicates in an array'''\n",
    "a = list(map(int, input(\"Enter the elements in the array to find duplicates: \").split()))\n",
    "dic = {}\n",
    "for i in a:\n",
    "    if i in dic:\n",
    "        dic[i] += 1\n",
    "    else:\n",
    "        dic[i] = 1\n",
    "for i in dic:\n",
    "    if dic[i] > 1:\n",
    "        print(f\"The element {i} has {dic[i]} duplicates\")"
   ]
  },
  {
   "cell_type": "code",
   "execution_count": 9,
   "id": "e0cd1ce5",
   "metadata": {},
   "outputs": [
    {
     "name": "stdout",
     "output_type": "stream",
     "text": [
      "Enter a list of numbers: -2 0 2 4 6\n",
      "Enter the target sum: 2\n",
      "The pairs with sum 2 are: [[0, 2], [-2, 4]]\n"
     ]
    }
   ],
   "source": [
    "'''In an array, Count Pairs with given sum'''\n",
    "a = list(map(int, input(\"Enter a list of numbers: \").split()))\n",
    "b = int(input(\"Enter the target sum: \"))\n",
    "pairs = []\n",
    "for i in range(len(a)):\n",
    "    for j in range(i+1, len(a)):\n",
    "        if a[i] + a[j] == b:\n",
    "            pair = [a[i], a[j]]\n",
    "            pair.sort()\n",
    "            pairs.append(pair)\n",
    "pairs = list(set(map(tuple, pairs)))\n",
    "pairs = [list(pair) for pair in pairs]\n",
    "print(f\"The pairs with sum {b} are: {pairs}\")"
   ]
  },
  {
   "cell_type": "code",
   "execution_count": 10,
   "id": "2e7657c8",
   "metadata": {},
   "outputs": [
    {
     "name": "stdout",
     "output_type": "stream",
     "text": [
      "1\n",
      "2\n",
      "3\n",
      "4\n",
      "Queue is empty\n",
      "None\n"
     ]
    }
   ],
   "source": [
    "'''Implement a queue using the stack data structure'''\n",
    "class Queue:\n",
    "    def __init__(self):\n",
    "        self.stack1 = [] \n",
    "        self.stack2 = []\n",
    "        \n",
    "    def enqueue(self, value):\n",
    "        self.stack1.append(value)\n",
    "\n",
    "    def dequeue(self):\n",
    "        if not self.stack2:\n",
    "            while self.stack1:\n",
    "                self.stack2.append(self.stack1.pop())\n",
    "        if not self.stack2:\n",
    "            print(\"Queue is empty\")\n",
    "            return None\n",
    "        return self.stack2.pop()\n",
    "        \n",
    "q = Queue()\n",
    "q.enqueue(1)\n",
    "q.enqueue(2)\n",
    "q.enqueue(3)\n",
    "print(q.dequeue()) \n",
    "print(q.dequeue()) \n",
    "q.enqueue(4)\n",
    "print(q.dequeue()) \n",
    "print(q.dequeue()) \n",
    "print(q.dequeue())\n",
    "    "
   ]
  },
  {
   "cell_type": "code",
   "execution_count": 21,
   "id": "c6df08eb",
   "metadata": {},
   "outputs": [
    {
     "name": "stdout",
     "output_type": "stream",
     "text": [
      "-4\n",
      "20\n",
      "757.0\n"
     ]
    }
   ],
   "source": [
    "'''Evaluate a postfix expression using stack'''\n",
    "def evaluate_postfix(expression):\n",
    "    stack = []\n",
    "    operators = set(['+', '-', '*', '/', '^'])\n",
    "    for token in expression.split():\n",
    "        if token not in operators:\n",
    "            stack.append(int(token))\n",
    "        else:\n",
    "            operand2 = stack.pop()\n",
    "            operand1 = stack.pop()\n",
    "            if token == '+':\n",
    "                stack.append(operand1 + operand2)\n",
    "            elif token == '-':\n",
    "                stack.append(operand1 - operand2)\n",
    "            elif token == '*':\n",
    "                stack.append(operand1 * operand2)\n",
    "            elif token == '/':\n",
    "                stack.append(operand1 / operand2)\n",
    "            elif token == '^':\n",
    "                stack.append(operand1 ** operand2)\n",
    "    return stack.pop()\n",
    "\n",
    "expression = \"2 3 1 * + 9 -\"\n",
    "result = evaluate_postfix(expression)\n",
    "print(result)\n",
    "\n",
    "expression = \"2 3 + 3 * 8 3 - +\"\n",
    "result = evaluate_postfix(expression)\n",
    "print(result)\n",
    "\n",
    "expression = \"100 200 + 2 / 5 * 7 +\"\n",
    "result = evaluate_postfix(expression)\n",
    "print(result)"
   ]
  },
  {
   "cell_type": "code",
   "execution_count": 2,
   "id": "3f9ca3b0",
   "metadata": {},
   "outputs": [
    {
     "name": "stdout",
     "output_type": "stream",
     "text": [
      "2 -> 1 -> 4 -> 3 -> 6 -> 5 -> 8 -> 7 -> None\n"
     ]
    }
   ],
   "source": [
    "'''Reverse a linked list in groups of given size'''\n",
    "class Node:\n",
    "    def __init__(self, val=0, next=None):\n",
    "        self.val = val\n",
    "        self.next = next\n",
    "        \n",
    "def reverse_group(head, k):\n",
    "    if not head or k == 1:\n",
    "        return head\n",
    "    \n",
    "    dummy = Node(0)\n",
    "    dummy.next = head\n",
    "    prev = dummy\n",
    "    \n",
    "    while True:\n",
    "        current = prev.next\n",
    "        tail = prev\n",
    "        for i in range(k):\n",
    "            tail = tail.next\n",
    "            if not tail:\n",
    "                return dummy.next\n",
    "        for i in range(k-1):\n",
    "            temp = current.next\n",
    "            current.next = temp.next\n",
    "            temp.next = prev.next\n",
    "            prev.next = temp\n",
    "        prev = current\n",
    "        \n",
    "    return dummy.next\n",
    "\n",
    "node1 = Node(1)\n",
    "node2 = Node(2)\n",
    "node3 = Node(3)\n",
    "node4 = Node(4)\n",
    "node5 = Node(5)\n",
    "node6 = Node(6)\n",
    "node7 = Node(7)\n",
    "node8 = Node(8)\n",
    "node1.next = node2\n",
    "node2.next = node3\n",
    "node3.next = node4\n",
    "node4.next = node5\n",
    "node5.next = node6\n",
    "node6.next = node7\n",
    "node7.next = node8\n",
    "result = reverse_group(node1, 2)\n",
    "while result:\n",
    "    print(result.val, end=' -> ')\n",
    "    result = result.next\n",
    "print(\"None\")"
   ]
  },
  {
   "cell_type": "code",
   "execution_count": 6,
   "id": "387730ed",
   "metadata": {},
   "outputs": [
    {
     "name": "stdout",
     "output_type": "stream",
     "text": [
      "First Linked List:\n",
      "1\n",
      "2\n",
      "3\n",
      "Second Linked List:\n",
      "4\n",
      "5\n",
      "6\n",
      "7\n",
      "8\n",
      "Modified first linked list:\n",
      "1\n",
      "4\n",
      "2\n",
      "5\n",
      "3\n",
      "6\n",
      "Modified second linked list:\n",
      "7\n",
      "8\n"
     ]
    }
   ],
   "source": [
    "'''Merge a linked list into another linked list at alternate positions'''\n",
    "class Node(object):\n",
    "    def __init__(self, data:int):\n",
    "        self.data = data\n",
    "        self.next = None\n",
    "\n",
    "class LinkedList(object):\n",
    "    def __init__(self):\n",
    "        self.head = None\n",
    "          \n",
    "    def push(self, new_data:int):\n",
    "        new_node = Node(new_data)\n",
    "        new_node.next = self.head\n",
    "        self.head = new_node\n",
    "          \n",
    "    def printList(self):\n",
    "        temp = self.head\n",
    "        while temp != None:\n",
    "            print(temp.data)\n",
    "            temp = temp.next\n",
    "\n",
    "    def merge(self, p, q):\n",
    "        p_curr = p.head\n",
    "        q_curr = q.head\n",
    "  \n",
    "        # swap their positions until one finishes off\n",
    "        while p_curr != None and q_curr != None:\n",
    "  \n",
    "            # Save next pointers\n",
    "            p_next = p_curr.next\n",
    "            q_next = q_curr.next\n",
    "  \n",
    "            # make q_curr as next of p_curr\n",
    "            q_curr.next = p_next  # change next pointer of q_curr\n",
    "            p_curr.next = q_curr  # change next pointer of p_curr\n",
    "  \n",
    "            # update current pointers for next iteration\n",
    "            p_curr = p_next\n",
    "            q_curr = q_next\n",
    "            q.head = q_curr\n",
    "  \n",
    "  \n",
    "# Driver program to test above functions\n",
    "llist1 = LinkedList()\n",
    "llist2 = LinkedList()\n",
    "  \n",
    "# 1.\n",
    "for i in range(3,0,-1):\n",
    "    llist1.push(i)\n",
    "    \n",
    "# 2.\n",
    "for i in range(8, 3, -1):\n",
    "    llist2.push(i)\n",
    "\n",
    "print(\"First Linked List:\")\n",
    "llist1.printList()\n",
    "  \n",
    "print(\"Second Linked List:\")\n",
    "llist2.printList()\n",
    "  \n",
    "# Merging the LLs\n",
    "llist1.merge(p=llist1, q=llist2)\n",
    "  \n",
    "print(\"Modified first linked list:\")\n",
    "llist1.printList()\n",
    "  \n",
    "print(\"Modified second linked list:\")\n",
    "llist2.printList()"
   ]
  },
  {
   "cell_type": "code",
   "execution_count": 13,
   "id": "f24b379a",
   "metadata": {},
   "outputs": [
    {
     "name": "stdout",
     "output_type": "stream",
     "text": [
      "3 1 "
     ]
    }
   ],
   "source": [
    "'''Delete the elements in an linked list whose sum is equal to zero'''\n",
    "class ListNode:\n",
    "    def __init__(self, val=0, next=None):\n",
    "        self.val = val\n",
    "        self.next = next\n",
    "\n",
    "def delete_zero_sum(head):\n",
    "    dummy = ListNode(0)\n",
    "    dummy.next = head\n",
    "    prefix_sum = {0: dummy}\n",
    "    current_sum = 0\n",
    "    node = head\n",
    "\n",
    "    while node:\n",
    "        current_sum += node.val\n",
    "\n",
    "        if current_sum in prefix_sum:\n",
    "            start = prefix_sum[current_sum]\n",
    "            current = start.next\n",
    "            current_sum += current.val\n",
    "\n",
    "            while current != node:\n",
    "                del prefix_sum[current_sum]\n",
    "                current = current.next\n",
    "                current_sum += current.val\n",
    "\n",
    "            start.next = node.next\n",
    "        else:\n",
    "            prefix_sum[current_sum] = node\n",
    "\n",
    "        node = node.next\n",
    "\n",
    "    return dummy.next\n",
    "\n",
    "# Example usage\n",
    "node1 = ListNode(1)\n",
    "node2 = ListNode(2)\n",
    "node3 = ListNode(-3)\n",
    "node4 = ListNode(3)\n",
    "node5 = ListNode(1)\n",
    "node1.next = node2\n",
    "node2.next = node3\n",
    "node3.next = node4\n",
    "node4.next = node5\n",
    "\n",
    "result = delete_zero_sum(node1)\n",
    "\n",
    "while result:\n",
    "    print(result.val, end=' ')\n",
    "    result = result.next\n"
   ]
  }
 ],
 "metadata": {
  "kernelspec": {
   "display_name": "Python 3 (ipykernel)",
   "language": "python",
   "name": "python3"
  },
  "language_info": {
   "codemirror_mode": {
    "name": "ipython",
    "version": 3
   },
   "file_extension": ".py",
   "mimetype": "text/x-python",
   "name": "python",
   "nbconvert_exporter": "python",
   "pygments_lexer": "ipython3",
   "version": "3.9.7"
  }
 },
 "nbformat": 4,
 "nbformat_minor": 5
}
