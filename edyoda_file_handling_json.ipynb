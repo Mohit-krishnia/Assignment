{
 "cells": [
  {
   "cell_type": "code",
   "execution_count": 1,
   "id": "55e93c93",
   "metadata": {},
   "outputs": [
    {
     "name": "stdout",
     "output_type": "stream",
     "text": [
      "Name: Rakesh, DOB: 21-09-1984, Height: 5.9, City: Jaipur, State: Rajasthan\n",
      "Name: Mohan, DOB: 22-04-1945, Height: 5.9, City: Jaipur, State: Rajasthan\n",
      "Name: Akash, DOB: 12-02-2000, Height: 5.8, City: Jaipur, State: Rajasthan\n",
      "Name: Kamal, DOB: 09-10-1992, Height: 5.0, City: Jaipur, State: Rajasthan\n",
      "Name: Rajesh, DOB: 26-07-2000, Height: 6.2, City: Jaipur, State: Rajasthan\n"
     ]
    }
   ],
   "source": [
    "# Assignment 1 (1)\n",
    "import json\n",
    "class Employee:\n",
    "    def __init__(self, name, dob, height, city, state):\n",
    "        self.name = name\n",
    "        self.dob = dob\n",
    "        self.height = height\n",
    "        self.city = city\n",
    "        self.state = state\n",
    "        \n",
    "    def __str__(self):\n",
    "        return f\"Name: {self.name}, DOB: {self.dob}, Height: {self.height}, City: {self.city}, State: {self.state}\"\n",
    "        \n",
    "        \n",
    "with open(\"employee.json\",'w') as f:\n",
    "    data=[{'Name':'Rakesh','DOB':'21-09-1984','Height':5.9,'City':'Jaipur','State':'Rajasthan'},\n",
    "             {'Name':'Mohan','DOB':'22-04-1945','Height':5.9,'City':'Jaipur','State':'Rajasthan'},\n",
    "             {'Name':'Akash','DOB':'12-02-2000','Height':5.8,'City':'Jaipur','State':'Rajasthan'},\n",
    "             {'Name':'Kamal','DOB':'09-10-1992','Height':5.0,'City':'Jaipur','State':'Rajasthan'},\n",
    "             {'Name':'Rajesh','DOB':'26-07-2000','Height':6.2,'City':'Jaipur','State':'Rajasthan'}\n",
    "         ]\n",
    "    json.dump(data,f)\n",
    "    f.close()\n",
    "    \n",
    "class employ:\n",
    "    def read(self):\n",
    "        with open(\"employee.json\",'r') as f:\n",
    "            data=json.load(f)\n",
    "            employees = []\n",
    "            for item in data:\n",
    "                employee = Employee(item[\"Name\"], item[\"DOB\"], item[\"Height\"], item[\"City\"], item[\"State\"])\n",
    "                employees.append(employee)\n",
    "            for i in employees:\n",
    "                print(i)\n",
    "            \n",
    "obj=employ()\n",
    "obj.read()"
   ]
  },
  {
   "cell_type": "code",
   "execution_count": 2,
   "id": "b373dac9",
   "metadata": {},
   "outputs": [
    {
     "name": "stdout",
     "output_type": "stream",
     "text": [
      "State: Andhra Pradesh | Capital: Hyderabad\n",
      "State: Arunachal Pradesh | Capital: Itanagar\n",
      "State: Assam | Capital: Dispur\n",
      "State: Bihar | Capital: Patna\n",
      "State: Chhattisgarh | Capital: Raipur\n",
      "State: Goa | Capital: Panaji\n",
      "State: Gujarat | Capital: Gandhinagar\n"
     ]
    }
   ],
   "source": [
    "# Assignment 1 (2)\n",
    "import json\n",
    "\n",
    "indian_states = {\n",
    "    \"Andhra Pradesh\": \"Hyderabad\",\n",
    "    \"Arunachal Pradesh\": \"Itanagar\",\n",
    "    \"Assam\": \"Dispur\",\n",
    "    \"Bihar\": \"Patna\",\n",
    "    \"Chhattisgarh\": \"Raipur\",\n",
    "    \"Goa\": \"Panaji\",\n",
    "    \"Gujarat\": \"Gandhinagar\"\n",
    "}\n",
    "\n",
    "with open(\"indian_states.json\", \"w\") as f:\n",
    "    json.dump(indian_states, f)\n",
    "    f.close()\n",
    "    \n",
    "with open('indian_states.json','r') as f:\n",
    "    data=json.load(f)\n",
    "    for state, capital in data.items():\n",
    "        print(f\"State: {state} | Capital: {capital}\")"
   ]
  },
  {
   "cell_type": "code",
   "execution_count": 18,
   "id": "151f75af",
   "metadata": {},
   "outputs": [
    {
     "name": "stdout",
     "output_type": "stream",
     "text": [
      "Dog Buddy with age 3\n",
      "Dog Jack with age 4\n",
      "Dog Max with age 5\n",
      "\n",
      "Dog Buddy with coat of Brown\n",
      "Dog Jack with coat of White\n",
      "Dog Max with coat of Black\n",
      "\n",
      "Chasing squirrel...\n",
      "\n",
      "Barking loudly!\n",
      "\n",
      "Sleeping...\n",
      "\n",
      "Barking deeply!\n"
     ]
    }
   ],
   "source": [
    "# Assignment 2\n",
    "import json\n",
    "\n",
    "class Dog:\n",
    "    def __init__(self, name, age, coat_color):\n",
    "        self.name = name\n",
    "        self.age = age\n",
    "        self.coat_color = coat_color\n",
    "        self.store(self.name,self.age,self.coat_color)\n",
    "        \n",
    "    def store(self,name,age,coat_color):\n",
    "        with open('dog.json', 'a') as f:\n",
    "            data = {\"Name\": name, 'Age': age, 'Coat_Color': coat_color}\n",
    "            json.dump(data, f)\n",
    "            f.write('\\n')\n",
    "        \n",
    "    def description(self):\n",
    "        with open('dog.json', 'r') as f:\n",
    "             for line in f:\n",
    "                data = json.loads(line)\n",
    "                print(f\"Dog {data['Name']} with age {data['Age']}\")\n",
    "\n",
    "    def get_info(self):\n",
    "        with open('dog.json', 'r') as f:\n",
    "            for line in f:\n",
    "                data = json.loads(line)\n",
    "                print(f\"Dog {data['Name']} with coat of {data['Coat_Color']}\")\n",
    "\n",
    "class JackRussellTerrier(Dog):\n",
    "    def chase_squirrel(self):\n",
    "        print(\"Chasing squirrel...\")\n",
    "\n",
    "    def bark(self):\n",
    "        print(\"Barking loudly!\")\n",
    "\n",
    "class Bulldog(Dog):\n",
    "    def sleep(self):\n",
    "        print(\"Sleeping...\")\n",
    "\n",
    "    def bark(self):\n",
    "        print(\"Barking deeply!\")\n",
    "\n",
    "# Create dog objects\n",
    "dog1 = Dog(\"Buddy\", 3, \"Brown\")\n",
    "dog2 = JackRussellTerrier(\"Jack\", 4, \"White\")\n",
    "dog3 = Bulldog(\"Max\", 5, \"Black\")\n",
    "\n",
    "# Call methods\n",
    "dog1.description()\n",
    "print()\n",
    "dog1.get_info()\n",
    "print()\n",
    "dog2.chase_squirrel()\n",
    "print()\n",
    "dog2.bark()\n",
    "print()\n",
    "dog3.sleep()\n",
    "print()\n",
    "dog3.bark()\n"
   ]
  }
 ],
 "metadata": {
  "kernelspec": {
   "display_name": "Python 3 (ipykernel)",
   "language": "python",
   "name": "python3"
  },
  "language_info": {
   "codemirror_mode": {
    "name": "ipython",
    "version": 3
   },
   "file_extension": ".py",
   "mimetype": "text/x-python",
   "name": "python",
   "nbconvert_exporter": "python",
   "pygments_lexer": "ipython3",
   "version": "3.9.7"
  }
 },
 "nbformat": 4,
 "nbformat_minor": 5
}
