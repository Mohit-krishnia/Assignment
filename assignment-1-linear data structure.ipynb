{
 "cells": [
  {
   "cell_type": "code",
   "execution_count": 2,
   "id": "09682bf7",
   "metadata": {},
   "outputs": [
    {
     "name": "stdout",
     "output_type": "stream",
     "text": [
      "Enter the list from which you want answer : 2 2 4 6 8\n",
      "Enter whose sum you want : 10\n",
      "[(2, 8), (4, 6)]\n"
     ]
    }
   ],
   "source": [
    "# 1\n",
    "a=list(map(int,input(\"Enter the list from which you want answer : \").split()))\n",
    "b=int(input(\"Enter whose sum you want : \"))\n",
    "l=[]\n",
    "for i in range(len(a)):\n",
    "    for j in range(i+1,len(a)):\n",
    "        if a[i]+a[j]==b and a[i]!=a[j]:\n",
    "            if (a[i],a[j]) not in l:\n",
    "                l.append((a[i],a[j]))\n",
    "        else:\n",
    "            continue\n",
    "print(l)"
   ]
  },
  {
   "cell_type": "code",
   "execution_count": 4,
   "id": "b2d92fc5",
   "metadata": {},
   "outputs": [
    {
     "name": "stdout",
     "output_type": "stream",
     "text": [
      "Please provide an array : 1 2 3 4 5\n",
      "[5, 4, 3, 2, 1]\n"
     ]
    }
   ],
   "source": [
    "# 2\n",
    "a=list(map(int,input(\"Please provide an array : \").split()))\n",
    "for i in range(len(a)//2):\n",
    "    a[i],a[len(a)-i-1]=a[len(a)-i-1],a[i]\n",
    "print(a)"
   ]
  },
  {
   "cell_type": "code",
   "execution_count": 8,
   "id": "935afe48",
   "metadata": {},
   "outputs": [
    {
     "name": "stdout",
     "output_type": "stream",
     "text": [
      "string 1 : Hello Mohit Hows you\n",
      "string 2 : you Hello Mohit Hows\n",
      "Rotatable\n"
     ]
    }
   ],
   "source": [
    "# 3\n",
    "a=input(\"string 1 : \")\n",
    "b=input(\"string 2 : \")\n",
    "if len(a)==len(b):\n",
    "    a_words = a.split()\n",
    "    b_words = b.split()\n",
    "    a = ''.join(a_words)\n",
    "    b = ''.join(b_words)\n",
    "    concat_a = a  + a\n",
    "    if b in concat_a:\n",
    "        print(\"Rotatable\")\n",
    "    else:\n",
    "        print(\"Not rotatable\")\n",
    "else:\n",
    "    print(\"Not rotate of each other \")"
   ]
  },
  {
   "cell_type": "code",
   "execution_count": 1,
   "id": "e028a4f4",
   "metadata": {},
   "outputs": [
    {
     "name": "stdout",
     "output_type": "stream",
     "text": [
      "enter a string for our work : hello world\n",
      "h\n"
     ]
    }
   ],
   "source": [
    "# 4\n",
    "a=input('enter a string for our work : ')\n",
    "l={}\n",
    "for i in a:\n",
    "    if i in l:\n",
    "        l[i]+=1\n",
    "    else:\n",
    "        l[i]=1\n",
    "for i in l:\n",
    "    if l[i]==1:\n",
    "        print(i)\n",
    "        break"
   ]
  },
  {
   "cell_type": "code",
   "execution_count": 5,
   "id": "446c1fbd",
   "metadata": {},
   "outputs": [
    {
     "name": "stdout",
     "output_type": "stream",
     "text": [
      "move disk  1 from source  A to destination C\n",
      "move disk  2  from source  A to destination  B\n",
      "move disk  1 from source  C to destination B\n",
      "move disk  3  from source  A to destination  C\n",
      "move disk  1 from source  B to destination A\n",
      "move disk  2  from source  B to destination  C\n",
      "move disk  1 from source  A to destination C\n"
     ]
    }
   ],
   "source": [
    "# 5\n",
    "def tower_of_h(n,A,C,B):\n",
    "    if n==1:\n",
    "        print(\"move disk \",n,\"from source \",A,\"to destination\",C)\n",
    "        return\n",
    "    tower_of_h(n-1,A,B,C)\n",
    "    print(\"move disk \",n,\" from source \",A,\"to destination \",C)\n",
    "    tower_of_h(n-1,B,C,A)\n",
    "    \n",
    "n=3\n",
    "tower_of_h(n,'A','C','B')"
   ]
  },
  {
   "cell_type": "code",
   "execution_count": 3,
   "id": "55665965",
   "metadata": {},
   "outputs": [
    {
     "name": "stdout",
     "output_type": "stream",
     "text": [
      "please provide postflix string to convert : 82/7-\n",
      "-/827\n"
     ]
    }
   ],
   "source": [
    "# 6\n",
    "a=input(\"please provide postflix string to convert : \")\n",
    "s = []\n",
    "for i in range(len(a)):\n",
    "    if (a[i]) in ['+','-','*','/']:\n",
    "        op1 = s[-1]\n",
    "        s.pop()\n",
    "        op2 = s[-1]\n",
    "        s.pop()\n",
    "        temp = a[i] + op2 + op1\n",
    "        s.append(temp)\n",
    "    else:\n",
    "        s.append(a[i])\n",
    "ans = \"\"\n",
    "for i in s:\n",
    "    ans += i\n",
    "print(ans)"
   ]
  },
  {
   "cell_type": "code",
   "execution_count": 8,
   "id": "840b0612",
   "metadata": {},
   "outputs": [
    {
     "name": "stdout",
     "output_type": "stream",
     "text": [
      "Enter a preflix string to convert : /+98-76\n",
      "9+8/7-6"
     ]
    }
   ],
   "source": [
    "# 7\n",
    "a=input(\"Enter a preflix string to convert : \")\n",
    "b=a[::-1]\n",
    "stack=[]\n",
    "for i in b:  # i=index and j=string char\n",
    "     if i in ['+','-','*','/']:\n",
    "         l=f\"{stack.pop()}{i}{stack.pop()}\"\n",
    "         stack.append(l)\n",
    "     else:\n",
    "         stack.append(i)\n",
    "stack=stack[::-1]\n",
    "for i in stack:\n",
    "    print(i,end=\"\")"
   ]
  },
  {
   "cell_type": "code",
   "execution_count": 9,
   "id": "01745cf3",
   "metadata": {},
   "outputs": [
    {
     "name": "stdout",
     "output_type": "stream",
     "text": [
      "provide a bracket string please : [()]{}{[()()]()}\n",
      "True\n"
     ]
    }
   ],
   "source": [
    "# 8\n",
    "a = input(\"provide a bracket string please : \")\n",
    "b = ['(', '[', '{']\n",
    "c = [')', ']', '}']\n",
    "stack1 = []\n",
    "for i in a:\n",
    "    if i in b:\n",
    "        stack1.append(i)\n",
    "    elif i in c:\n",
    "        if not stack1:\n",
    "            print(\"False\")\n",
    "            break\n",
    "        d = stack1.pop()\n",
    "        if b.index(d) != c.index(i):\n",
    "            print(\"False\")\n",
    "            break\n",
    "else:\n",
    "    if not stack1:\n",
    "        print(\"True\")\n",
    "    else:\n",
    "        print(\"False\")"
   ]
  },
  {
   "cell_type": "code",
   "execution_count": 13,
   "id": "a6b38857",
   "metadata": {},
   "outputs": [
    {
     "name": "stdout",
     "output_type": "stream",
     "text": [
      "Enter the elements in stack: - 1 2 3 4 5 6 7 8\n",
      "[8, 7, 6, 5, 4, 3, 2, 1]\n"
     ]
    }
   ],
   "source": [
    "# 9\n",
    "stack1=list(map(int,input(\"Enter the elements in stack: - \").split()))\n",
    "stack2=[]\n",
    "for i in range(len(stack1)):\n",
    "    stack2.append(stack1.pop())\n",
    "print(stack2)"
   ]
  },
  {
   "cell_type": "code",
   "execution_count": 15,
   "id": "dec4939c",
   "metadata": {},
   "outputs": [
    {
     "name": "stdout",
     "output_type": "stream",
     "text": [
      "Enter the no.s in stack to find smallest : 3 8 2 9 5\n",
      "2\n"
     ]
    }
   ],
   "source": [
    "# 10\n",
    "stack=list(map(int,input(\"Enter the no.s in stack to find smallest : \").split()))\n",
    "mi=stack[0]\n",
    "for j in stack:\n",
    "    if j<mi:\n",
    "        mi=j\n",
    "print(mi)"
   ]
  }
 ],
 "metadata": {
  "kernelspec": {
   "display_name": "Python 3 (ipykernel)",
   "language": "python",
   "name": "python3"
  },
  "language_info": {
   "codemirror_mode": {
    "name": "ipython",
    "version": 3
   },
   "file_extension": ".py",
   "mimetype": "text/x-python",
   "name": "python",
   "nbconvert_exporter": "python",
   "pygments_lexer": "ipython3",
   "version": "3.9.7"
  }
 },
 "nbformat": 4,
 "nbformat_minor": 5
}
