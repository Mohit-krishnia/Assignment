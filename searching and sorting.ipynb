{
 "cells": [
  {
   "cell_type": "code",
   "execution_count": 9,
   "id": "2cb54f2d",
   "metadata": {},
   "outputs": [
    {
     "name": "stdout",
     "output_type": "stream",
     "text": [
      "3 5 2 8 4 7 1 6\n",
      "1 2 3 4 5 6 7 8 "
     ]
    }
   ],
   "source": [
    "'''Implement Insertion Sort'''\n",
    "a=list(map(int,input().split()))\n",
    "for i in range(len(a)):\n",
    "    key=a[i]\n",
    "    j=i-1\n",
    "    while j>=0 and a[j]>key:\n",
    "        a[j + 1] = a[j]\n",
    "        j -= 1\n",
    "    a[j + 1] = key\n",
    "for i in a:\n",
    "    print(i,end=\" \")"
   ]
  },
  {
   "cell_type": "code",
   "execution_count": 6,
   "id": "bd081851",
   "metadata": {},
   "outputs": [
    {
     "name": "stdout",
     "output_type": "stream",
     "text": [
      "Enter the list : 3 5 2 8 4 7 1 6\n",
      "[1, 2, 3, 4, 5, 6, 7, 8]\n"
     ]
    }
   ],
   "source": [
    "'''Implement merg sort'''\n",
    "def merge_sort(arr):\n",
    "    if len(arr) <= 1:\n",
    "        return arr\n",
    "    mid = len(arr) // 2\n",
    "    left_arr = arr[:mid]\n",
    "    right_arr = arr[mid:]\n",
    "    left_arr = merge_sort(left_arr)\n",
    "    right_arr = merge_sort(right_arr)\n",
    "    return merge(left_arr, right_arr)\n",
    "\n",
    "def merge(left_arr, right_arr):\n",
    "    result = []\n",
    "    i = j = 0\n",
    "    while i < len(left_arr) and j < len(right_arr):\n",
    "        if left_arr[i] < right_arr[j]:\n",
    "            result.append(left_arr[i])\n",
    "            i += 1\n",
    "        else:\n",
    "            result.append(right_arr[j])\n",
    "            j += 1\n",
    "    result += left_arr[i:]\n",
    "    result += right_arr[j:]\n",
    "    return result\n",
    "\n",
    "a=list(map(int,input(\"Enter the list : \").split()))\n",
    "b=merge_sort(a)\n",
    "print(b)"
   ]
  },
  {
   "cell_type": "code",
   "execution_count": 7,
   "id": "72279bf6",
   "metadata": {},
   "outputs": [
    {
     "name": "stdout",
     "output_type": "stream",
     "text": [
      "[1, 2, 3, 4, 5, 6, 7, 8]\n"
     ]
    }
   ],
   "source": [
    "'''Implement Quick Sort'''\n",
    "def quick_sort(arr):\n",
    "    if len(arr) <= 1:\n",
    "        return arr\n",
    "    else:\n",
    "        pivot = arr[0]\n",
    "        left = []\n",
    "        right = []\n",
    "        for i in arr[1:]:\n",
    "            if i < pivot:\n",
    "                left.append(i)\n",
    "            else:\n",
    "                right.append(i)\n",
    "        return quick_sort(left) + [pivot] + quick_sort(right)\n",
    "\n",
    "arr = [3, 5, 2, 8, 4, 7, 1, 6]\n",
    "sorted_arr = quick_sort(arr)\n",
    "print(sorted_arr)"
   ]
  },
  {
   "cell_type": "code",
   "execution_count": 4,
   "id": "2fb0dcfc",
   "metadata": {},
   "outputs": [
    {
     "name": "stdout",
     "output_type": "stream",
     "text": [
      "5\n"
     ]
    }
   ],
   "source": [
    "'''Implement Binary Search'''\n",
    "def binary_search(arr, target):\n",
    "    left = 0\n",
    "    right = len(arr) - 1\n",
    "    while left <= right:\n",
    "        mid = (left + right) // 2\n",
    "        if arr[mid] == target:\n",
    "            return mid\n",
    "        elif arr[mid] < target:\n",
    "            left = mid + 1\n",
    "        else:\n",
    "            right = mid - 1\n",
    "    return -1\n",
    "\n",
    "arr = [1, 2, 3, 4, 5, 6, 7, 8]\n",
    "target = 6\n",
    "result = binary_search(arr, target)\n",
    "print(result)"
   ]
  },
  {
   "cell_type": "code",
   "execution_count": 5,
   "id": "5ca5d359",
   "metadata": {},
   "outputs": [
    {
     "name": "stdout",
     "output_type": "stream",
     "text": [
      "['apple', 'Banana', 'cat', 'DOG', 'elephant']\n"
     ]
    }
   ],
   "source": [
    "'''Write a program to sort list of strings (similar to that of dictionary) '''\n",
    "my_list = ['apple', 'Banana', 'cat', 'DOG', 'elephant']\n",
    "sorted_list = sorted(my_list, key=str.lower)\n",
    "print(sorted_list)"
   ]
  }
 ],
 "metadata": {
  "kernelspec": {
   "display_name": "Python 3 (ipykernel)",
   "language": "python",
   "name": "python3"
  },
  "language_info": {
   "codemirror_mode": {
    "name": "ipython",
    "version": 3
   },
   "file_extension": ".py",
   "mimetype": "text/x-python",
   "name": "python",
   "nbconvert_exporter": "python",
   "pygments_lexer": "ipython3",
   "version": "3.9.7"
  }
 },
 "nbformat": 4,
 "nbformat_minor": 5
}
